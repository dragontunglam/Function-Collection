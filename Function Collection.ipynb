{
 "cells": [
  {
   "cell_type": "markdown",
   "metadata": {},
   "source": [
    "### Encrypt and Decrypt AES/ECB/PCKS7PADDING ( can easily change to CBC with an addtion of iv)"
   ]
  },
  {
   "cell_type": "markdown",
   "metadata": {},
   "source": [
    "#### Class"
   ]
  },
  {
   "cell_type": "code",
   "execution_count": 82,
   "metadata": {},
   "outputs": [],
   "source": [
    "import base64\n",
    "import hashlib\n",
    "from Crypto import Random\n",
    "from Crypto.Cipher import AES\n",
    "\n",
    "class AESCipher(object):\n",
    "\n",
    "    def __init__(self, key): \n",
    "        self.bs = AES.block_size\n",
    "        self.key = key.encode()\n",
    "\n",
    "    def encrypt(self, raw):\n",
    "        raw = self._pad(raw)\n",
    "        #iv = Random.new().read(AES.block_size)\n",
    "        cipher = AES.new(self.key, AES.MODE_ECB)\n",
    "        return base64.b64encode(cipher.encrypt(raw.encode()))\n",
    "\n",
    "    def decrypt(self, enc):\n",
    "        enc = base64.b64decode(enc)\n",
    "        #iv = enc[:AES.block_size]\n",
    "        cipher = AES.new(self.key, AES.MODE_ECB)\n",
    "        return self._unpad(cipher.decrypt(enc[AES.block_size:])).decode('utf-8')\n",
    "\n",
    "    def _pad(self, s):\n",
    "        return s + (self.bs - len(s) % self.bs) * chr(self.bs - len(s) % self.bs)\n",
    "\n",
    "    @staticmethod\n",
    "    def _unpad(s):\n",
    "        return s[:-ord(s[len(s)-1:])]"
   ]
  },
  {
   "cell_type": "markdown",
   "metadata": {},
   "source": [
    "#### Example"
   ]
  },
  {
   "cell_type": "code",
   "execution_count": 83,
   "metadata": {},
   "outputs": [],
   "source": [
    "key = AESCipher(\"u8x/A?D(G+KaPdSgVkYp3s6v9y$B&E)H\")"
   ]
  },
  {
   "cell_type": "code",
   "execution_count": 84,
   "metadata": {},
   "outputs": [
    {
     "data": {
      "text/plain": [
       "b'+Pi3sTjRzOHpiyoVrjeSBw=='"
      ]
     },
     "execution_count": 84,
     "metadata": {},
     "output_type": "execute_result"
    }
   ],
   "source": [
    "key.encrypt('84964415113')"
   ]
  },
  {
   "cell_type": "markdown",
   "metadata": {},
   "source": [
    "### Count the time a value has been repeated in a list"
   ]
  },
  {
   "cell_type": "markdown",
   "metadata": {},
   "source": [
    "#### Function"
   ]
  },
  {
   "cell_type": "code",
   "execution_count": 92,
   "metadata": {},
   "outputs": [],
   "source": [
    "def countlist(random_list,a):\n",
    "   for i in range(len(random_list)):\n",
    "     if random_list[i] == a:\n",
    "        random_list[i] = 1\n",
    "     else:\n",
    "        random_list[i] = 0\n",
    "   retlist = []\n",
    "   count = 0\n",
    "   for i in range(len(random_list)):\n",
    "     count += random_list[i]\n",
    "     if (random_list[i] == 0) & (count > 0):\n",
    "        retlist.append(count)\n",
    "        count = 0\n",
    "     elif (random_list[i] == 0) & (count == 0):\n",
    "        pass\n",
    "     elif (i == (len(random_list)-1)) & (count > 0):\n",
    "        retlist.append(count)\n",
    "   return(retlist)"
   ]
  },
  {
   "cell_type": "markdown",
   "metadata": {},
   "source": [
    "#### Example"
   ]
  },
  {
   "cell_type": "code",
   "execution_count": 89,
   "metadata": {},
   "outputs": [],
   "source": [
    "cdc = [-1,-1,-1,1,1,1,1,-1,1,1,1,1,2,3,4,1,1,4,2]"
   ]
  },
  {
   "cell_type": "code",
   "execution_count": 93,
   "metadata": {},
   "outputs": [
    {
     "data": {
      "text/plain": [
       "[4, 4, 2]"
      ]
     },
     "execution_count": 93,
     "metadata": {},
     "output_type": "execute_result"
    }
   ],
   "source": [
    "countlist(cdc,1)"
   ]
  }
 ],
 "metadata": {
  "kernelspec": {
   "display_name": "Python 3",
   "language": "python",
   "name": "python3"
  },
  "language_info": {
   "codemirror_mode": {
    "name": "ipython",
    "version": 3
   },
   "file_extension": ".py",
   "mimetype": "text/x-python",
   "name": "python",
   "nbconvert_exporter": "python",
   "pygments_lexer": "ipython3",
   "version": "3.7.4"
  }
 },
 "nbformat": 4,
 "nbformat_minor": 2
}
